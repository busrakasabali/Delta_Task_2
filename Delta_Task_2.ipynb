{
  "cells": [
    {
      "cell_type": "markdown",
      "source": [
        "Delta Task 2 Project WIP"
      ],
      "metadata": {
        "id": "eUt6AkpkCr_G"
      }
    },
    {
      "cell_type": "code",
      "source": [
        "!pip install wordninja"
      ],
      "metadata": {
        "colab": {
          "base_uri": "https://localhost:8080/"
        },
        "id": "UgONqirGXv3C",
        "outputId": "7019736e-fe69-45d2-ac1a-43b6072d4986"
      },
      "execution_count": 1,
      "outputs": [
        {
          "output_type": "stream",
          "name": "stdout",
          "text": [
            "Collecting wordninja\n",
            "  Downloading wordninja-2.0.0.tar.gz (541 kB)\n",
            "\u001b[?25l     \u001b[90m━━━━━━━━━━━━━━━━━━━━━━━━━━━━━━━━━━━━━━━━\u001b[0m \u001b[32m0.0/541.6 kB\u001b[0m \u001b[31m?\u001b[0m eta \u001b[36m-:--:--\u001b[0m\r\u001b[2K     \u001b[91m━━━━━━━━━━━━━━━━━━━━━━━━━━━━━━━━━━━━━\u001b[0m\u001b[90m╺\u001b[0m \u001b[32m532.5/541.6 kB\u001b[0m \u001b[31m21.9 MB/s\u001b[0m eta \u001b[36m0:00:01\u001b[0m\r\u001b[2K     \u001b[90m━━━━━━━━━━━━━━━━━━━━━━━━━━━━━━━━━━━━━━\u001b[0m \u001b[32m541.6/541.6 kB\u001b[0m \u001b[31m13.9 MB/s\u001b[0m eta \u001b[36m0:00:00\u001b[0m\n",
            "\u001b[?25h  Preparing metadata (setup.py) ... \u001b[?25l\u001b[?25hdone\n",
            "Building wheels for collected packages: wordninja\n",
            "  Building wheel for wordninja (setup.py) ... \u001b[?25l\u001b[?25hdone\n",
            "  Created wheel for wordninja: filename=wordninja-2.0.0-py3-none-any.whl size=541530 sha256=11adefd6b01343e2dcc79470b207c1993dbb575fa3153bb88975acd060fac01c\n",
            "  Stored in directory: /root/.cache/pip/wheels/e6/66/9c/712044a983337f5d44f90abcd244bd4b8ad28ee64750404b50\n",
            "Successfully built wordninja\n",
            "Installing collected packages: wordninja\n",
            "Successfully installed wordninja-2.0.0\n"
          ]
        }
      ]
    },
    {
      "cell_type": "code",
      "source": [
        "import pandas as pd\n",
        "import numpy as np\n",
        "import re\n",
        "import nltk\n",
        "from nltk.corpus import wordnet\n",
        "from nltk.corpus import stopwords\n",
        "from nltk.stem import WordNetLemmatizer\n",
        "import wordninja"
      ],
      "metadata": {
        "id": "rc1cx8m1CoG3"
      },
      "execution_count": 56,
      "outputs": []
    },
    {
      "cell_type": "code",
      "source": [
        "#Reading train and test sets into data frame\n",
        "\n",
        "btc_tweets_train = pd.read_parquet('btc_tweets_train.parquet.gzip')\n",
        "btc_tweets_test = pd.read_parquet('btc_tweets_test.parquet.gzip')"
      ],
      "metadata": {
        "id": "BYxQ757cElnN"
      },
      "execution_count": 4,
      "outputs": []
    },
    {
      "cell_type": "markdown",
      "source": [
        "### Exploratory Analysis to Understand the Data"
      ],
      "metadata": {
        "id": "BOhT4DLV1OYy"
      }
    },
    {
      "cell_type": "markdown",
      "source": [
        "First start with the exploratory data analysis to understand the data structure. Both training and test data has 5 columns and 1500 observations in train and 500 in test set."
      ],
      "metadata": {
        "id": "OOUAMAQFKyZA"
      }
    },
    {
      "cell_type": "code",
      "source": [
        "btc_tweets_train.info()\n",
        "btc_tweets_test.info()"
      ],
      "metadata": {
        "colab": {
          "base_uri": "https://localhost:8080/"
        },
        "id": "6AtiYey3EA-F",
        "outputId": "e46dcbf2-5637-4315-a13c-b9286093b7c1"
      },
      "execution_count": 26,
      "outputs": [
        {
          "output_type": "stream",
          "name": "stdout",
          "text": [
            "<class 'pandas.core.frame.DataFrame'>\n",
            "Index: 1500 entries, 1641579121972236290 to 1641861677149822976\n",
            "Data columns (total 5 columns):\n",
            " #   Column            Non-Null Count  Dtype \n",
            "---  ------            --------------  ----- \n",
            " 0   hashtags          1500 non-null   object\n",
            " 1   content           1500 non-null   object\n",
            " 2   username          1500 non-null   object\n",
            " 3   user_displayname  1500 non-null   object\n",
            " 4   sentiment         1500 non-null   bool  \n",
            "dtypes: bool(1), object(4)\n",
            "memory usage: 60.1+ KB\n",
            "<class 'pandas.core.frame.DataFrame'>\n",
            "Index: 500 entries, 1641861708246552576 to 1641953216999968769\n",
            "Data columns (total 5 columns):\n",
            " #   Column            Non-Null Count  Dtype \n",
            "---  ------            --------------  ----- \n",
            " 0   hashtags          500 non-null    object\n",
            " 1   content           500 non-null    object\n",
            " 2   username          500 non-null    object\n",
            " 3   user_displayname  500 non-null    object\n",
            " 4   sentiment         500 non-null    bool  \n",
            "dtypes: bool(1), object(4)\n",
            "memory usage: 20.0+ KB\n"
          ]
        }
      ]
    },
    {
      "cell_type": "markdown",
      "source": [
        "Content column has the content for sentiment analysis. The tweets include hashtags, emojis and line break elements, which may require handling before we start on tokenizing our data. And it is a mix of uppercase and lower case values"
      ],
      "metadata": {
        "id": "6E28ujpgLbIT"
      }
    },
    {
      "cell_type": "code",
      "source": [
        "btc_tweets_train['content'][1641861088483368964]"
      ],
      "metadata": {
        "colab": {
          "base_uri": "https://localhost:8080/",
          "height": 35
        },
        "id": "xPrRrLBGEpfL",
        "outputId": "ff1470f0-02b7-48a6-c7a8-4a2abfe4813b"
      },
      "execution_count": 32,
      "outputs": [
        {
          "output_type": "execute_result",
          "data": {
            "text/plain": [
              "'Last chance below 30k #BITCOIN\\u202f\\u202f\\u202f #LFG \\nSet a reminder for my upcoming Space! https://t.co/rnE6XDLOPH'"
            ],
            "application/vnd.google.colaboratory.intrinsic+json": {
              "type": "string"
            }
          },
          "metadata": {},
          "execution_count": 32
        }
      ]
    },
    {
      "cell_type": "markdown",
      "source": [
        "The data frame has an index column and the indexes for observations are the tweet_ID"
      ],
      "metadata": {
        "id": "jphRzo-eMBmO"
      }
    },
    {
      "cell_type": "code",
      "source": [
        "btc_tweets_train.head(10)"
      ],
      "metadata": {
        "colab": {
          "base_uri": "https://localhost:8080/",
          "height": 424
        },
        "id": "aHDT9RZ8EZ7N",
        "outputId": "1d7a2dd3-e0a6-4ed6-a0ea-456c2c538749"
      },
      "execution_count": 5,
      "outputs": [
        {
          "output_type": "execute_result",
          "data": {
            "text/plain": [
              "                                                              hashtags  \\\n",
              "tweet ID                                                                 \n",
              "1641579121972236290  [Bitcoin, Bitcoin, BTC, Bitcoin, BTC, SHIB, HO...   \n",
              "1641579176171016194                 [Bitcoin, bitcoinordinals, crypto]   \n",
              "1641579486071390208  [BTC, SHIB, HOGE, SAITAMA, BNB, DOGE, ETH, Bab...   \n",
              "1641579537103302656                                              [BTC]   \n",
              "1641579588399804418                                          [Bitcoin]   \n",
              "1641579652681543680                       [Crypto, Bitcoin, Investing]   \n",
              "1641579895615569921                                          [Bitcoin]   \n",
              "1641580545678393345                                          [Bitcoin]   \n",
              "1641580600606769152                                          [bitcoin]   \n",
              "1641581112852971524  [Solana, bitcoin, FRONK, BONK, CRYPTO, ETH, BS...   \n",
              "\n",
              "                                                               content  \\\n",
              "tweet ID                                                                 \n",
              "1641579121972236290  $Bitcoin TO $100,000 SOONER THAN YOU THINK‼️💯🙏...   \n",
              "1641579176171016194  Alright I have my rares. Who else is grabbing ...   \n",
              "1641579486071390208  Bitcoin (BTC) Targets Over $100,000 as This Im...   \n",
              "1641579537103302656  📢 Xverse Web-based pool is live:\\n\\n•Update @x...   \n",
              "1641579588399804418  Yesterday, a Bitcoin projection was displayed ...   \n",
              "1641579652681543680  Unpopular opinion:\\n\\nThis pump isn’t going to...   \n",
              "1641579895615569921                                #Bitcoin fixes this   \n",
              "1641580545678393345  Solid bid in major ALT/BTC pairs today. \\n\\nIf...   \n",
              "1641580600606769152  If you're filing 2022 taxes in the U.S., you s...   \n",
              "1641581112852971524  IBIS SACRED, new solana project. metaverse com...   \n",
              "\n",
              "                            username user_displayname  sentiment  \n",
              "tweet ID                                                          \n",
              "1641579121972236290      BezosCrypto       SHIB Bezos       True  \n",
              "1641579176171016194      spartantc81        SpartanTC       True  \n",
              "1641579486071390208      BezosCrypto       SHIB Bezos       True  \n",
              "1641579537103302656     godfred_xcuz    Algorithm.btc       True  \n",
              "1641579588399804418      goddess81oo     she is lucky       True  \n",
              "1641579652681543680  CloseSomeSayles   Andrew Sayles☕      False  \n",
              "1641579895615569921      ShannenJPEG        Shannen 🍉       True  \n",
              "1641580545678393345    tedtalksmacro    tedtalksmacro       True  \n",
              "1641580600606769152     unchainedcom        Unchained       True  \n",
              "1641581112852971524      ibis_sacred      IBIS sacred       True  "
            ],
            "text/html": [
              "\n",
              "  <div id=\"df-5bc3216e-584d-4ecc-bff1-efb2e4dffde1\" class=\"colab-df-container\">\n",
              "    <div>\n",
              "<style scoped>\n",
              "    .dataframe tbody tr th:only-of-type {\n",
              "        vertical-align: middle;\n",
              "    }\n",
              "\n",
              "    .dataframe tbody tr th {\n",
              "        vertical-align: top;\n",
              "    }\n",
              "\n",
              "    .dataframe thead th {\n",
              "        text-align: right;\n",
              "    }\n",
              "</style>\n",
              "<table border=\"1\" class=\"dataframe\">\n",
              "  <thead>\n",
              "    <tr style=\"text-align: right;\">\n",
              "      <th></th>\n",
              "      <th>hashtags</th>\n",
              "      <th>content</th>\n",
              "      <th>username</th>\n",
              "      <th>user_displayname</th>\n",
              "      <th>sentiment</th>\n",
              "    </tr>\n",
              "    <tr>\n",
              "      <th>tweet ID</th>\n",
              "      <th></th>\n",
              "      <th></th>\n",
              "      <th></th>\n",
              "      <th></th>\n",
              "      <th></th>\n",
              "    </tr>\n",
              "  </thead>\n",
              "  <tbody>\n",
              "    <tr>\n",
              "      <th>1641579121972236290</th>\n",
              "      <td>[Bitcoin, Bitcoin, BTC, Bitcoin, BTC, SHIB, HO...</td>\n",
              "      <td>$Bitcoin TO $100,000 SOONER THAN YOU THINK‼️💯🙏...</td>\n",
              "      <td>BezosCrypto</td>\n",
              "      <td>SHIB Bezos</td>\n",
              "      <td>True</td>\n",
              "    </tr>\n",
              "    <tr>\n",
              "      <th>1641579176171016194</th>\n",
              "      <td>[Bitcoin, bitcoinordinals, crypto]</td>\n",
              "      <td>Alright I have my rares. Who else is grabbing ...</td>\n",
              "      <td>spartantc81</td>\n",
              "      <td>SpartanTC</td>\n",
              "      <td>True</td>\n",
              "    </tr>\n",
              "    <tr>\n",
              "      <th>1641579486071390208</th>\n",
              "      <td>[BTC, SHIB, HOGE, SAITAMA, BNB, DOGE, ETH, Bab...</td>\n",
              "      <td>Bitcoin (BTC) Targets Over $100,000 as This Im...</td>\n",
              "      <td>BezosCrypto</td>\n",
              "      <td>SHIB Bezos</td>\n",
              "      <td>True</td>\n",
              "    </tr>\n",
              "    <tr>\n",
              "      <th>1641579537103302656</th>\n",
              "      <td>[BTC]</td>\n",
              "      <td>📢 Xverse Web-based pool is live:\\n\\n•Update @x...</td>\n",
              "      <td>godfred_xcuz</td>\n",
              "      <td>Algorithm.btc</td>\n",
              "      <td>True</td>\n",
              "    </tr>\n",
              "    <tr>\n",
              "      <th>1641579588399804418</th>\n",
              "      <td>[Bitcoin]</td>\n",
              "      <td>Yesterday, a Bitcoin projection was displayed ...</td>\n",
              "      <td>goddess81oo</td>\n",
              "      <td>she is lucky</td>\n",
              "      <td>True</td>\n",
              "    </tr>\n",
              "    <tr>\n",
              "      <th>1641579652681543680</th>\n",
              "      <td>[Crypto, Bitcoin, Investing]</td>\n",
              "      <td>Unpopular opinion:\\n\\nThis pump isn’t going to...</td>\n",
              "      <td>CloseSomeSayles</td>\n",
              "      <td>Andrew Sayles☕</td>\n",
              "      <td>False</td>\n",
              "    </tr>\n",
              "    <tr>\n",
              "      <th>1641579895615569921</th>\n",
              "      <td>[Bitcoin]</td>\n",
              "      <td>#Bitcoin fixes this</td>\n",
              "      <td>ShannenJPEG</td>\n",
              "      <td>Shannen 🍉</td>\n",
              "      <td>True</td>\n",
              "    </tr>\n",
              "    <tr>\n",
              "      <th>1641580545678393345</th>\n",
              "      <td>[Bitcoin]</td>\n",
              "      <td>Solid bid in major ALT/BTC pairs today. \\n\\nIf...</td>\n",
              "      <td>tedtalksmacro</td>\n",
              "      <td>tedtalksmacro</td>\n",
              "      <td>True</td>\n",
              "    </tr>\n",
              "    <tr>\n",
              "      <th>1641580600606769152</th>\n",
              "      <td>[bitcoin]</td>\n",
              "      <td>If you're filing 2022 taxes in the U.S., you s...</td>\n",
              "      <td>unchainedcom</td>\n",
              "      <td>Unchained</td>\n",
              "      <td>True</td>\n",
              "    </tr>\n",
              "    <tr>\n",
              "      <th>1641581112852971524</th>\n",
              "      <td>[Solana, bitcoin, FRONK, BONK, CRYPTO, ETH, BS...</td>\n",
              "      <td>IBIS SACRED, new solana project. metaverse com...</td>\n",
              "      <td>ibis_sacred</td>\n",
              "      <td>IBIS sacred</td>\n",
              "      <td>True</td>\n",
              "    </tr>\n",
              "  </tbody>\n",
              "</table>\n",
              "</div>\n",
              "    <div class=\"colab-df-buttons\">\n",
              "\n",
              "  <div class=\"colab-df-container\">\n",
              "    <button class=\"colab-df-convert\" onclick=\"convertToInteractive('df-5bc3216e-584d-4ecc-bff1-efb2e4dffde1')\"\n",
              "            title=\"Convert this dataframe to an interactive table.\"\n",
              "            style=\"display:none;\">\n",
              "\n",
              "  <svg xmlns=\"http://www.w3.org/2000/svg\" height=\"24px\" viewBox=\"0 -960 960 960\">\n",
              "    <path d=\"M120-120v-720h720v720H120Zm60-500h600v-160H180v160Zm220 220h160v-160H400v160Zm0 220h160v-160H400v160ZM180-400h160v-160H180v160Zm440 0h160v-160H620v160ZM180-180h160v-160H180v160Zm440 0h160v-160H620v160Z\"/>\n",
              "  </svg>\n",
              "    </button>\n",
              "\n",
              "  <style>\n",
              "    .colab-df-container {\n",
              "      display:flex;\n",
              "      gap: 12px;\n",
              "    }\n",
              "\n",
              "    .colab-df-convert {\n",
              "      background-color: #E8F0FE;\n",
              "      border: none;\n",
              "      border-radius: 50%;\n",
              "      cursor: pointer;\n",
              "      display: none;\n",
              "      fill: #1967D2;\n",
              "      height: 32px;\n",
              "      padding: 0 0 0 0;\n",
              "      width: 32px;\n",
              "    }\n",
              "\n",
              "    .colab-df-convert:hover {\n",
              "      background-color: #E2EBFA;\n",
              "      box-shadow: 0px 1px 2px rgba(60, 64, 67, 0.3), 0px 1px 3px 1px rgba(60, 64, 67, 0.15);\n",
              "      fill: #174EA6;\n",
              "    }\n",
              "\n",
              "    .colab-df-buttons div {\n",
              "      margin-bottom: 4px;\n",
              "    }\n",
              "\n",
              "    [theme=dark] .colab-df-convert {\n",
              "      background-color: #3B4455;\n",
              "      fill: #D2E3FC;\n",
              "    }\n",
              "\n",
              "    [theme=dark] .colab-df-convert:hover {\n",
              "      background-color: #434B5C;\n",
              "      box-shadow: 0px 1px 3px 1px rgba(0, 0, 0, 0.15);\n",
              "      filter: drop-shadow(0px 1px 2px rgba(0, 0, 0, 0.3));\n",
              "      fill: #FFFFFF;\n",
              "    }\n",
              "  </style>\n",
              "\n",
              "    <script>\n",
              "      const buttonEl =\n",
              "        document.querySelector('#df-5bc3216e-584d-4ecc-bff1-efb2e4dffde1 button.colab-df-convert');\n",
              "      buttonEl.style.display =\n",
              "        google.colab.kernel.accessAllowed ? 'block' : 'none';\n",
              "\n",
              "      async function convertToInteractive(key) {\n",
              "        const element = document.querySelector('#df-5bc3216e-584d-4ecc-bff1-efb2e4dffde1');\n",
              "        const dataTable =\n",
              "          await google.colab.kernel.invokeFunction('convertToInteractive',\n",
              "                                                    [key], {});\n",
              "        if (!dataTable) return;\n",
              "\n",
              "        const docLinkHtml = 'Like what you see? Visit the ' +\n",
              "          '<a target=\"_blank\" href=https://colab.research.google.com/notebooks/data_table.ipynb>data table notebook</a>'\n",
              "          + ' to learn more about interactive tables.';\n",
              "        element.innerHTML = '';\n",
              "        dataTable['output_type'] = 'display_data';\n",
              "        await google.colab.output.renderOutput(dataTable, element);\n",
              "        const docLink = document.createElement('div');\n",
              "        docLink.innerHTML = docLinkHtml;\n",
              "        element.appendChild(docLink);\n",
              "      }\n",
              "    </script>\n",
              "  </div>\n",
              "\n",
              "\n",
              "    <div id=\"df-83e4e423-f1c2-455d-824d-7cbf86bd1f97\">\n",
              "      <button class=\"colab-df-quickchart\" onclick=\"quickchart('df-83e4e423-f1c2-455d-824d-7cbf86bd1f97')\"\n",
              "                title=\"Suggest charts\"\n",
              "                style=\"display:none;\">\n",
              "\n",
              "<svg xmlns=\"http://www.w3.org/2000/svg\" height=\"24px\"viewBox=\"0 0 24 24\"\n",
              "     width=\"24px\">\n",
              "    <g>\n",
              "        <path d=\"M19 3H5c-1.1 0-2 .9-2 2v14c0 1.1.9 2 2 2h14c1.1 0 2-.9 2-2V5c0-1.1-.9-2-2-2zM9 17H7v-7h2v7zm4 0h-2V7h2v10zm4 0h-2v-4h2v4z\"/>\n",
              "    </g>\n",
              "</svg>\n",
              "      </button>\n",
              "\n",
              "<style>\n",
              "  .colab-df-quickchart {\n",
              "      --bg-color: #E8F0FE;\n",
              "      --fill-color: #1967D2;\n",
              "      --hover-bg-color: #E2EBFA;\n",
              "      --hover-fill-color: #174EA6;\n",
              "      --disabled-fill-color: #AAA;\n",
              "      --disabled-bg-color: #DDD;\n",
              "  }\n",
              "\n",
              "  [theme=dark] .colab-df-quickchart {\n",
              "      --bg-color: #3B4455;\n",
              "      --fill-color: #D2E3FC;\n",
              "      --hover-bg-color: #434B5C;\n",
              "      --hover-fill-color: #FFFFFF;\n",
              "      --disabled-bg-color: #3B4455;\n",
              "      --disabled-fill-color: #666;\n",
              "  }\n",
              "\n",
              "  .colab-df-quickchart {\n",
              "    background-color: var(--bg-color);\n",
              "    border: none;\n",
              "    border-radius: 50%;\n",
              "    cursor: pointer;\n",
              "    display: none;\n",
              "    fill: var(--fill-color);\n",
              "    height: 32px;\n",
              "    padding: 0;\n",
              "    width: 32px;\n",
              "  }\n",
              "\n",
              "  .colab-df-quickchart:hover {\n",
              "    background-color: var(--hover-bg-color);\n",
              "    box-shadow: 0 1px 2px rgba(60, 64, 67, 0.3), 0 1px 3px 1px rgba(60, 64, 67, 0.15);\n",
              "    fill: var(--button-hover-fill-color);\n",
              "  }\n",
              "\n",
              "  .colab-df-quickchart-complete:disabled,\n",
              "  .colab-df-quickchart-complete:disabled:hover {\n",
              "    background-color: var(--disabled-bg-color);\n",
              "    fill: var(--disabled-fill-color);\n",
              "    box-shadow: none;\n",
              "  }\n",
              "\n",
              "  .colab-df-spinner {\n",
              "    border: 2px solid var(--fill-color);\n",
              "    border-color: transparent;\n",
              "    border-bottom-color: var(--fill-color);\n",
              "    animation:\n",
              "      spin 1s steps(1) infinite;\n",
              "  }\n",
              "\n",
              "  @keyframes spin {\n",
              "    0% {\n",
              "      border-color: transparent;\n",
              "      border-bottom-color: var(--fill-color);\n",
              "      border-left-color: var(--fill-color);\n",
              "    }\n",
              "    20% {\n",
              "      border-color: transparent;\n",
              "      border-left-color: var(--fill-color);\n",
              "      border-top-color: var(--fill-color);\n",
              "    }\n",
              "    30% {\n",
              "      border-color: transparent;\n",
              "      border-left-color: var(--fill-color);\n",
              "      border-top-color: var(--fill-color);\n",
              "      border-right-color: var(--fill-color);\n",
              "    }\n",
              "    40% {\n",
              "      border-color: transparent;\n",
              "      border-right-color: var(--fill-color);\n",
              "      border-top-color: var(--fill-color);\n",
              "    }\n",
              "    60% {\n",
              "      border-color: transparent;\n",
              "      border-right-color: var(--fill-color);\n",
              "    }\n",
              "    80% {\n",
              "      border-color: transparent;\n",
              "      border-right-color: var(--fill-color);\n",
              "      border-bottom-color: var(--fill-color);\n",
              "    }\n",
              "    90% {\n",
              "      border-color: transparent;\n",
              "      border-bottom-color: var(--fill-color);\n",
              "    }\n",
              "  }\n",
              "</style>\n",
              "\n",
              "      <script>\n",
              "        async function quickchart(key) {\n",
              "          const quickchartButtonEl =\n",
              "            document.querySelector('#' + key + ' button');\n",
              "          quickchartButtonEl.disabled = true;  // To prevent multiple clicks.\n",
              "          quickchartButtonEl.classList.add('colab-df-spinner');\n",
              "          try {\n",
              "            const charts = await google.colab.kernel.invokeFunction(\n",
              "                'suggestCharts', [key], {});\n",
              "          } catch (error) {\n",
              "            console.error('Error during call to suggestCharts:', error);\n",
              "          }\n",
              "          quickchartButtonEl.classList.remove('colab-df-spinner');\n",
              "          quickchartButtonEl.classList.add('colab-df-quickchart-complete');\n",
              "        }\n",
              "        (() => {\n",
              "          let quickchartButtonEl =\n",
              "            document.querySelector('#df-83e4e423-f1c2-455d-824d-7cbf86bd1f97 button');\n",
              "          quickchartButtonEl.style.display =\n",
              "            google.colab.kernel.accessAllowed ? 'block' : 'none';\n",
              "        })();\n",
              "      </script>\n",
              "    </div>\n",
              "\n",
              "    </div>\n",
              "  </div>\n"
            ],
            "application/vnd.google.colaboratory.intrinsic+json": {
              "type": "dataframe",
              "variable_name": "btc_tweets_train",
              "summary": "{\n  \"name\": \"btc_tweets_train\",\n  \"rows\": 1500,\n  \"fields\": [\n    {\n      \"column\": \"tweet ID\",\n      \"properties\": {\n        \"dtype\": \"number\",\n        \"std\": 79646078773176,\n        \"min\": 1641579121972236290,\n        \"max\": 1641861677149822976,\n        \"num_unique_values\": 1500,\n        \"samples\": [\n          1641816590063910913,\n          1641842211732979723,\n          1641707439664791553\n        ],\n        \"semantic_type\": \"\",\n        \"description\": \"\"\n      }\n    },\n    {\n      \"column\": \"hashtags\",\n      \"properties\": {\n        \"dtype\": \"object\",\n        \"semantic_type\": \"\",\n        \"description\": \"\"\n      }\n    },\n    {\n      \"column\": \"content\",\n      \"properties\": {\n        \"dtype\": \"string\",\n        \"num_unique_values\": 1500,\n        \"samples\": [\n          \"#Bitcoin To The Moon \\u203c\\ufe0f\\n\\n$BKKT $CORZQ To The Moon \\u203c\\ufe0f\\n\\n#BTC\\u00a0#SHIB To The Moon\\u203c\\ufe0f\\n\\n#HOGE #SAITAMA #BNB\\u00a0#DOGE #ETH #BabyFloki To The Moon \\u203c\\ufe0f\\n\\n#Crypto To The Moon\\u203c\\ufe0f\\n\\n#AltCoinSeason https://t.co/JzMMg2RRfz\",\n          \"$SPX H4\\n\\nBreaking out of the IHS bullish reversal pattern. Next resistance is our \\\"Macro Bullish\\\" resistance of 4200. \\n\\nBreaking this puts us in a macro bullish stance and we can say \\\"the bottom is in\\\".\\n\\n$BTC also testing its pivot point and a breakout would assist.\\n\\n#bitcoin\\u2026 https://t.co/Oi8UwR8Y4f\",\n          \"If you're still 100% behind #LUNC hit the like button\\n\\n$lunc #lunc #crypto #luna #LunaClassic #LuncBurn #LuncArmy #LUNCcommunity #crypto #btc\\u00a0\\u00a0\\u00a0\\u00a0 #Binance https://t.co/FjPUhzdDa8\"\n        ],\n        \"semantic_type\": \"\",\n        \"description\": \"\"\n      }\n    },\n    {\n      \"column\": \"username\",\n      \"properties\": {\n        \"dtype\": \"string\",\n        \"num_unique_values\": 1012,\n        \"samples\": [\n          \"_CryptoMaze_\",\n          \"JJcycles\",\n          \"CryptoRowenta01\"\n        ],\n        \"semantic_type\": \"\",\n        \"description\": \"\"\n      }\n    },\n    {\n      \"column\": \"user_displayname\",\n      \"properties\": {\n        \"dtype\": \"string\",\n        \"num_unique_values\": 1012,\n        \"samples\": [\n          \"CryptoMaze \\u271d\\ufe0f (Will never DM 1st or Follow)\",\n          \"ALTBTC\\ud835\\udd54\\ud835\\udd6a\\ud835\\udd54\\ud835\\udd5d\\ud835\\udd56\\ud835\\udd64 \\ud83d\\udd04\",\n          \"Crypto-lowcap\"\n        ],\n        \"semantic_type\": \"\",\n        \"description\": \"\"\n      }\n    },\n    {\n      \"column\": \"sentiment\",\n      \"properties\": {\n        \"dtype\": \"boolean\",\n        \"num_unique_values\": 2,\n        \"samples\": [\n          false,\n          true\n        ],\n        \"semantic_type\": \"\",\n        \"description\": \"\"\n      }\n    }\n  ]\n}"
            }
          },
          "metadata": {},
          "execution_count": 5
        }
      ]
    },
    {
      "cell_type": "markdown",
      "source": [
        "The sentiment of the content is already a boolean so dont need to change that. The train set consists heavily of positive sentiment score"
      ],
      "metadata": {
        "id": "vXXP9L_FO7ps"
      }
    },
    {
      "cell_type": "code",
      "source": [
        "btc_tweets_train.describe()"
      ],
      "metadata": {
        "colab": {
          "base_uri": "https://localhost:8080/",
          "height": 173
        },
        "id": "qEO1paSGEcuo",
        "outputId": "1a64932b-7616-45d2-d8b5-fe89274a2283"
      },
      "execution_count": 24,
      "outputs": [
        {
          "output_type": "execute_result",
          "data": {
            "text/plain": [
              "         hashtags                                            content  \\\n",
              "count        1500                                               1500   \n",
              "unique        945                                               1500   \n",
              "top     [Bitcoin]  If the government are allowed to sell all the ...   \n",
              "freq          384                                                  1   \n",
              "\n",
              "           username user_displayname sentiment  \n",
              "count          1500             1500      1500  \n",
              "unique         1012             1012         2  \n",
              "top     BezosCrypto       SHIB Bezos      True  \n",
              "freq             41               41      1220  "
            ],
            "text/html": [
              "\n",
              "  <div id=\"df-6697dd30-da5b-4f3c-bd80-4a73d4fa7859\" class=\"colab-df-container\">\n",
              "    <div>\n",
              "<style scoped>\n",
              "    .dataframe tbody tr th:only-of-type {\n",
              "        vertical-align: middle;\n",
              "    }\n",
              "\n",
              "    .dataframe tbody tr th {\n",
              "        vertical-align: top;\n",
              "    }\n",
              "\n",
              "    .dataframe thead th {\n",
              "        text-align: right;\n",
              "    }\n",
              "</style>\n",
              "<table border=\"1\" class=\"dataframe\">\n",
              "  <thead>\n",
              "    <tr style=\"text-align: right;\">\n",
              "      <th></th>\n",
              "      <th>hashtags</th>\n",
              "      <th>content</th>\n",
              "      <th>username</th>\n",
              "      <th>user_displayname</th>\n",
              "      <th>sentiment</th>\n",
              "    </tr>\n",
              "  </thead>\n",
              "  <tbody>\n",
              "    <tr>\n",
              "      <th>count</th>\n",
              "      <td>1500</td>\n",
              "      <td>1500</td>\n",
              "      <td>1500</td>\n",
              "      <td>1500</td>\n",
              "      <td>1500</td>\n",
              "    </tr>\n",
              "    <tr>\n",
              "      <th>unique</th>\n",
              "      <td>945</td>\n",
              "      <td>1500</td>\n",
              "      <td>1012</td>\n",
              "      <td>1012</td>\n",
              "      <td>2</td>\n",
              "    </tr>\n",
              "    <tr>\n",
              "      <th>top</th>\n",
              "      <td>[Bitcoin]</td>\n",
              "      <td>If the government are allowed to sell all the ...</td>\n",
              "      <td>BezosCrypto</td>\n",
              "      <td>SHIB Bezos</td>\n",
              "      <td>True</td>\n",
              "    </tr>\n",
              "    <tr>\n",
              "      <th>freq</th>\n",
              "      <td>384</td>\n",
              "      <td>1</td>\n",
              "      <td>41</td>\n",
              "      <td>41</td>\n",
              "      <td>1220</td>\n",
              "    </tr>\n",
              "  </tbody>\n",
              "</table>\n",
              "</div>\n",
              "    <div class=\"colab-df-buttons\">\n",
              "\n",
              "  <div class=\"colab-df-container\">\n",
              "    <button class=\"colab-df-convert\" onclick=\"convertToInteractive('df-6697dd30-da5b-4f3c-bd80-4a73d4fa7859')\"\n",
              "            title=\"Convert this dataframe to an interactive table.\"\n",
              "            style=\"display:none;\">\n",
              "\n",
              "  <svg xmlns=\"http://www.w3.org/2000/svg\" height=\"24px\" viewBox=\"0 -960 960 960\">\n",
              "    <path d=\"M120-120v-720h720v720H120Zm60-500h600v-160H180v160Zm220 220h160v-160H400v160Zm0 220h160v-160H400v160ZM180-400h160v-160H180v160Zm440 0h160v-160H620v160ZM180-180h160v-160H180v160Zm440 0h160v-160H620v160Z\"/>\n",
              "  </svg>\n",
              "    </button>\n",
              "\n",
              "  <style>\n",
              "    .colab-df-container {\n",
              "      display:flex;\n",
              "      gap: 12px;\n",
              "    }\n",
              "\n",
              "    .colab-df-convert {\n",
              "      background-color: #E8F0FE;\n",
              "      border: none;\n",
              "      border-radius: 50%;\n",
              "      cursor: pointer;\n",
              "      display: none;\n",
              "      fill: #1967D2;\n",
              "      height: 32px;\n",
              "      padding: 0 0 0 0;\n",
              "      width: 32px;\n",
              "    }\n",
              "\n",
              "    .colab-df-convert:hover {\n",
              "      background-color: #E2EBFA;\n",
              "      box-shadow: 0px 1px 2px rgba(60, 64, 67, 0.3), 0px 1px 3px 1px rgba(60, 64, 67, 0.15);\n",
              "      fill: #174EA6;\n",
              "    }\n",
              "\n",
              "    .colab-df-buttons div {\n",
              "      margin-bottom: 4px;\n",
              "    }\n",
              "\n",
              "    [theme=dark] .colab-df-convert {\n",
              "      background-color: #3B4455;\n",
              "      fill: #D2E3FC;\n",
              "    }\n",
              "\n",
              "    [theme=dark] .colab-df-convert:hover {\n",
              "      background-color: #434B5C;\n",
              "      box-shadow: 0px 1px 3px 1px rgba(0, 0, 0, 0.15);\n",
              "      filter: drop-shadow(0px 1px 2px rgba(0, 0, 0, 0.3));\n",
              "      fill: #FFFFFF;\n",
              "    }\n",
              "  </style>\n",
              "\n",
              "    <script>\n",
              "      const buttonEl =\n",
              "        document.querySelector('#df-6697dd30-da5b-4f3c-bd80-4a73d4fa7859 button.colab-df-convert');\n",
              "      buttonEl.style.display =\n",
              "        google.colab.kernel.accessAllowed ? 'block' : 'none';\n",
              "\n",
              "      async function convertToInteractive(key) {\n",
              "        const element = document.querySelector('#df-6697dd30-da5b-4f3c-bd80-4a73d4fa7859');\n",
              "        const dataTable =\n",
              "          await google.colab.kernel.invokeFunction('convertToInteractive',\n",
              "                                                    [key], {});\n",
              "        if (!dataTable) return;\n",
              "\n",
              "        const docLinkHtml = 'Like what you see? Visit the ' +\n",
              "          '<a target=\"_blank\" href=https://colab.research.google.com/notebooks/data_table.ipynb>data table notebook</a>'\n",
              "          + ' to learn more about interactive tables.';\n",
              "        element.innerHTML = '';\n",
              "        dataTable['output_type'] = 'display_data';\n",
              "        await google.colab.output.renderOutput(dataTable, element);\n",
              "        const docLink = document.createElement('div');\n",
              "        docLink.innerHTML = docLinkHtml;\n",
              "        element.appendChild(docLink);\n",
              "      }\n",
              "    </script>\n",
              "  </div>\n",
              "\n",
              "\n",
              "    <div id=\"df-8a5eda41-83a0-4882-b2ae-8756da3f3a19\">\n",
              "      <button class=\"colab-df-quickchart\" onclick=\"quickchart('df-8a5eda41-83a0-4882-b2ae-8756da3f3a19')\"\n",
              "                title=\"Suggest charts\"\n",
              "                style=\"display:none;\">\n",
              "\n",
              "<svg xmlns=\"http://www.w3.org/2000/svg\" height=\"24px\"viewBox=\"0 0 24 24\"\n",
              "     width=\"24px\">\n",
              "    <g>\n",
              "        <path d=\"M19 3H5c-1.1 0-2 .9-2 2v14c0 1.1.9 2 2 2h14c1.1 0 2-.9 2-2V5c0-1.1-.9-2-2-2zM9 17H7v-7h2v7zm4 0h-2V7h2v10zm4 0h-2v-4h2v4z\"/>\n",
              "    </g>\n",
              "</svg>\n",
              "      </button>\n",
              "\n",
              "<style>\n",
              "  .colab-df-quickchart {\n",
              "      --bg-color: #E8F0FE;\n",
              "      --fill-color: #1967D2;\n",
              "      --hover-bg-color: #E2EBFA;\n",
              "      --hover-fill-color: #174EA6;\n",
              "      --disabled-fill-color: #AAA;\n",
              "      --disabled-bg-color: #DDD;\n",
              "  }\n",
              "\n",
              "  [theme=dark] .colab-df-quickchart {\n",
              "      --bg-color: #3B4455;\n",
              "      --fill-color: #D2E3FC;\n",
              "      --hover-bg-color: #434B5C;\n",
              "      --hover-fill-color: #FFFFFF;\n",
              "      --disabled-bg-color: #3B4455;\n",
              "      --disabled-fill-color: #666;\n",
              "  }\n",
              "\n",
              "  .colab-df-quickchart {\n",
              "    background-color: var(--bg-color);\n",
              "    border: none;\n",
              "    border-radius: 50%;\n",
              "    cursor: pointer;\n",
              "    display: none;\n",
              "    fill: var(--fill-color);\n",
              "    height: 32px;\n",
              "    padding: 0;\n",
              "    width: 32px;\n",
              "  }\n",
              "\n",
              "  .colab-df-quickchart:hover {\n",
              "    background-color: var(--hover-bg-color);\n",
              "    box-shadow: 0 1px 2px rgba(60, 64, 67, 0.3), 0 1px 3px 1px rgba(60, 64, 67, 0.15);\n",
              "    fill: var(--button-hover-fill-color);\n",
              "  }\n",
              "\n",
              "  .colab-df-quickchart-complete:disabled,\n",
              "  .colab-df-quickchart-complete:disabled:hover {\n",
              "    background-color: var(--disabled-bg-color);\n",
              "    fill: var(--disabled-fill-color);\n",
              "    box-shadow: none;\n",
              "  }\n",
              "\n",
              "  .colab-df-spinner {\n",
              "    border: 2px solid var(--fill-color);\n",
              "    border-color: transparent;\n",
              "    border-bottom-color: var(--fill-color);\n",
              "    animation:\n",
              "      spin 1s steps(1) infinite;\n",
              "  }\n",
              "\n",
              "  @keyframes spin {\n",
              "    0% {\n",
              "      border-color: transparent;\n",
              "      border-bottom-color: var(--fill-color);\n",
              "      border-left-color: var(--fill-color);\n",
              "    }\n",
              "    20% {\n",
              "      border-color: transparent;\n",
              "      border-left-color: var(--fill-color);\n",
              "      border-top-color: var(--fill-color);\n",
              "    }\n",
              "    30% {\n",
              "      border-color: transparent;\n",
              "      border-left-color: var(--fill-color);\n",
              "      border-top-color: var(--fill-color);\n",
              "      border-right-color: var(--fill-color);\n",
              "    }\n",
              "    40% {\n",
              "      border-color: transparent;\n",
              "      border-right-color: var(--fill-color);\n",
              "      border-top-color: var(--fill-color);\n",
              "    }\n",
              "    60% {\n",
              "      border-color: transparent;\n",
              "      border-right-color: var(--fill-color);\n",
              "    }\n",
              "    80% {\n",
              "      border-color: transparent;\n",
              "      border-right-color: var(--fill-color);\n",
              "      border-bottom-color: var(--fill-color);\n",
              "    }\n",
              "    90% {\n",
              "      border-color: transparent;\n",
              "      border-bottom-color: var(--fill-color);\n",
              "    }\n",
              "  }\n",
              "</style>\n",
              "\n",
              "      <script>\n",
              "        async function quickchart(key) {\n",
              "          const quickchartButtonEl =\n",
              "            document.querySelector('#' + key + ' button');\n",
              "          quickchartButtonEl.disabled = true;  // To prevent multiple clicks.\n",
              "          quickchartButtonEl.classList.add('colab-df-spinner');\n",
              "          try {\n",
              "            const charts = await google.colab.kernel.invokeFunction(\n",
              "                'suggestCharts', [key], {});\n",
              "          } catch (error) {\n",
              "            console.error('Error during call to suggestCharts:', error);\n",
              "          }\n",
              "          quickchartButtonEl.classList.remove('colab-df-spinner');\n",
              "          quickchartButtonEl.classList.add('colab-df-quickchart-complete');\n",
              "        }\n",
              "        (() => {\n",
              "          let quickchartButtonEl =\n",
              "            document.querySelector('#df-8a5eda41-83a0-4882-b2ae-8756da3f3a19 button');\n",
              "          quickchartButtonEl.style.display =\n",
              "            google.colab.kernel.accessAllowed ? 'block' : 'none';\n",
              "        })();\n",
              "      </script>\n",
              "    </div>\n",
              "\n",
              "    </div>\n",
              "  </div>\n"
            ],
            "application/vnd.google.colaboratory.intrinsic+json": {
              "type": "dataframe",
              "summary": "{\n  \"name\": \"btc_tweets_train\",\n  \"rows\": 4,\n  \"fields\": [\n    {\n      \"column\": \"hashtags\",\n      \"properties\": {\n        \"dtype\": \"object\",\n        \"semantic_type\": \"\",\n        \"description\": \"\"\n      }\n    },\n    {\n      \"column\": \"content\",\n      \"properties\": {\n        \"dtype\": \"string\",\n        \"num_unique_values\": 3,\n        \"samples\": [\n          \"1500\",\n          \"If the government are allowed to sell all the #Bitcoin that they confiscated from silk road\\n\\nwtf do you think they do with all the drugs they confiscate \\ud83d\\udcad\",\n          \"1\"\n        ],\n        \"semantic_type\": \"\",\n        \"description\": \"\"\n      }\n    },\n    {\n      \"column\": \"username\",\n      \"properties\": {\n        \"dtype\": \"string\",\n        \"num_unique_values\": 4,\n        \"samples\": [\n          1012,\n          \"41\",\n          \"1500\"\n        ],\n        \"semantic_type\": \"\",\n        \"description\": \"\"\n      }\n    },\n    {\n      \"column\": \"user_displayname\",\n      \"properties\": {\n        \"dtype\": \"string\",\n        \"num_unique_values\": 4,\n        \"samples\": [\n          1012,\n          \"41\",\n          \"1500\"\n        ],\n        \"semantic_type\": \"\",\n        \"description\": \"\"\n      }\n    },\n    {\n      \"column\": \"sentiment\",\n      \"properties\": {\n        \"dtype\": \"string\",\n        \"num_unique_values\": 4,\n        \"samples\": [\n          2,\n          \"1220\",\n          \"1500\"\n        ],\n        \"semantic_type\": \"\",\n        \"description\": \"\"\n      }\n    }\n  ]\n}"
            }
          },
          "metadata": {},
          "execution_count": 24
        }
      ]
    },
    {
      "cell_type": "markdown",
      "source": [
        "### Working with a Trial Sample"
      ],
      "metadata": {
        "id": "fbsKMiz00pY6"
      }
    },
    {
      "cell_type": "code",
      "source": [
        "trial_sample = btc_tweets_train.iloc[5,1]\n",
        "trial_sample"
      ],
      "metadata": {
        "colab": {
          "base_uri": "https://localhost:8080/",
          "height": 52
        },
        "id": "qDrjkuWVQzFQ",
        "outputId": "1fecbb3e-22f3-40af-8f1e-a09d0a0968a8"
      },
      "execution_count": 16,
      "outputs": [
        {
          "output_type": "execute_result",
          "data": {
            "text/plain": [
              "'Unpopular opinion:\\n\\nThis pump isn’t going to stop and we are entering a full fledged bull run.\\n\\nHOWEVER, there will be a major sell off sometime between April and June next year.\\n#Crypto #Bitcoin #Investing https://t.co/4fOMtYvY3c'"
            ],
            "application/vnd.google.colaboratory.intrinsic+json": {
              "type": "string"
            }
          },
          "metadata": {},
          "execution_count": 16
        }
      ]
    },
    {
      "cell_type": "code",
      "source": [
        "#Removing of URLs:\n",
        "preprocessed_tweets_train = re.sub(\"http\\S+\",\" \",trial_sample)\n",
        "\n",
        "print(preprocessed_tweets_train)"
      ],
      "metadata": {
        "colab": {
          "base_uri": "https://localhost:8080/"
        },
        "id": "R5AQFqOGUIE5",
        "outputId": "adf5cd40-9f8c-4b10-8c0b-8a738596a83f"
      },
      "execution_count": 17,
      "outputs": [
        {
          "output_type": "stream",
          "name": "stdout",
          "text": [
            "Unpopular opinion:\n",
            "\n",
            "This pump isn’t going to stop and we are entering a full fledged bull run.\n",
            "\n",
            "HOWEVER, there will be a major sell off sometime between April and June next year.\n",
            "#Crypto #Bitcoin #Investing  \n"
          ]
        }
      ]
    },
    {
      "cell_type": "code",
      "source": [
        "#Changing all tokens to lower case\n",
        "preprocessed_tweets_train = preprocessed_tweets_train.lower()\n",
        "print(preprocessed_tweets_train)"
      ],
      "metadata": {
        "colab": {
          "base_uri": "https://localhost:8080/"
        },
        "id": "xSlQ_Ic8VhCy",
        "outputId": "93a82443-97d5-4136-863a-40395a316d1b"
      },
      "execution_count": 18,
      "outputs": [
        {
          "output_type": "stream",
          "name": "stdout",
          "text": [
            "unpopular opinion:\n",
            "\n",
            "this pump isn’t going to stop and we are entering a full fledged bull run.\n",
            "\n",
            "however, there will be a major sell off sometime between april and june next year.\n",
            "#crypto #bitcoin #investing  \n"
          ]
        }
      ]
    },
    {
      "cell_type": "code",
      "source": [
        "#Removing the line breaks:\n",
        "preprocessed_tweets_train = preprocessed_tweets_train.replace('\\n',\" \")\n",
        "print(preprocessed_tweets_train)"
      ],
      "metadata": {
        "colab": {
          "base_uri": "https://localhost:8080/"
        },
        "id": "94AIGuYtVHOp",
        "outputId": "0c41cd7a-a588-413a-cae4-fe4cb9d04387"
      },
      "execution_count": 19,
      "outputs": [
        {
          "output_type": "stream",
          "name": "stdout",
          "text": [
            "unpopular opinion:  this pump isn’t going to stop and we are entering a full fledged bull run.  however, there will be a major sell off sometime between april and june next year. #crypto #bitcoin #investing  \n"
          ]
        }
      ]
    },
    {
      "cell_type": "code",
      "source": [
        "#Removing hashtags while replacing the rest of the hastag with the splitted version of the words in hashtag\n",
        "hashtags = re.findall(r'#\\w+', preprocessed_tweets_train)\n",
        "for tag in hashtags:\n",
        "  words_in_hashtag = wordninja.split(tag[1:]) #remove '#' and split\n",
        "  preprocessed_tweets_train = preprocessed_tweets_train.replace(tag, ' '.join(words_in_hashtag))\n",
        "\n",
        "print(preprocessed_tweets_train)"
      ],
      "metadata": {
        "colab": {
          "base_uri": "https://localhost:8080/"
        },
        "id": "PgrUX53vWJuD",
        "outputId": "3c4b0e98-4b58-4744-da3e-aa4fa32762da"
      },
      "execution_count": 20,
      "outputs": [
        {
          "output_type": "stream",
          "name": "stdout",
          "text": [
            "unpopular opinion:  this pump isn’t going to stop and we are entering a full fledged bull run.  however, there will be a major sell off sometime between april and june next year. crypto bitcoin investing  \n"
          ]
        }
      ]
    },
    {
      "cell_type": "code",
      "source": [
        "#Removing of non-alphabetic characters except numbers:\n",
        "preprocessed_tweets_train = re.sub(r\"[^a-zA-Z0-9,.]\", \" \", preprocessed_tweets_train) #keeping ',' and '.' to not split numbers like 100,000\n",
        "print(preprocessed_tweets_train)"
      ],
      "metadata": {
        "colab": {
          "base_uri": "https://localhost:8080/"
        },
        "id": "ATfUpEXbYBPq",
        "outputId": "e60b8a8f-0265-4551-ef0f-7e66bbd3fd1a"
      },
      "execution_count": 21,
      "outputs": [
        {
          "output_type": "stream",
          "name": "stdout",
          "text": [
            "unpopular opinion   this pump isn t going to stop and we are entering a full fledged bull run.  however, there will be a major sell off sometime between april and june next year. crypto bitcoin investing  \n"
          ]
        }
      ]
    },
    {
      "cell_type": "code",
      "source": [
        "#Tokenization:\n",
        "nltk.download('punkt_tab')\n",
        "preprocessed_tweets_train = nltk.word_tokenize(preprocessed_tweets_train)\n",
        "print(preprocessed_tweets_train)"
      ],
      "metadata": {
        "colab": {
          "base_uri": "https://localhost:8080/"
        },
        "id": "gdSBqJJQap_q",
        "outputId": "5aa2b8fa-e40f-4ef1-8fbf-4a1ea945c1be"
      },
      "execution_count": 22,
      "outputs": [
        {
          "output_type": "stream",
          "name": "stdout",
          "text": [
            "['unpopular', 'opinion', 'this', 'pump', 'isn', 't', 'going', 'to', 'stop', 'and', 'we', 'are', 'entering', 'a', 'full', 'fledged', 'bull', 'run', '.', 'however', ',', 'there', 'will', 'be', 'a', 'major', 'sell', 'off', 'sometime', 'between', 'april', 'and', 'june', 'next', 'year', '.', 'crypto', 'bitcoin', 'investing']\n"
          ]
        },
        {
          "output_type": "stream",
          "name": "stderr",
          "text": [
            "[nltk_data] Downloading package punkt_tab to /root/nltk_data...\n",
            "[nltk_data]   Package punkt_tab is already up-to-date!\n"
          ]
        }
      ]
    },
    {
      "cell_type": "code",
      "source": [
        "#Stopwords removal:\n",
        "nltk.download('stopwords')\n",
        "words_list = []\n",
        "for w in preprocessed_tweets_train:\n",
        "  if w not in stopwords.words(\"english\"):\n",
        "    words_list.append(w)\n",
        "\n",
        "print(words_list)"
      ],
      "metadata": {
        "colab": {
          "base_uri": "https://localhost:8080/"
        },
        "id": "40M3npFrav0B",
        "outputId": "97759c67-0eff-4899-96f7-cb42dea4ec48"
      },
      "execution_count": 23,
      "outputs": [
        {
          "output_type": "stream",
          "name": "stdout",
          "text": [
            "['unpopular', 'opinion', 'pump', 'going', 'stop', 'entering', 'full', 'fledged', 'bull', 'run', '.', 'however', ',', 'major', 'sell', 'sometime', 'april', 'june', 'next', 'year', '.', 'crypto', 'bitcoin', 'investing']\n"
          ]
        },
        {
          "output_type": "stream",
          "name": "stderr",
          "text": [
            "[nltk_data] Downloading package stopwords to /root/nltk_data...\n",
            "[nltk_data]   Package stopwords is already up-to-date!\n"
          ]
        }
      ]
    },
    {
      "cell_type": "code",
      "source": [
        "lemmatizer = WordNetLemmatizer()\n",
        "nltk.download('averaged_perceptron_tagger_eng')\n",
        "nltk.download('wordnet')\n",
        "preprocessed_textual_sample = [lemmatizer.lemmatize(w, get_wordnet_pos(w)) for w in words_list]"
      ],
      "metadata": {
        "colab": {
          "base_uri": "https://localhost:8080/"
        },
        "id": "-XClX5_FgGju",
        "outputId": "58b51319-ac89-4b41-bb1e-5ccc041abd86"
      },
      "execution_count": 25,
      "outputs": [
        {
          "output_type": "stream",
          "name": "stderr",
          "text": [
            "[nltk_data] Downloading package averaged_perceptron_tagger_eng to\n",
            "[nltk_data]     /root/nltk_data...\n",
            "[nltk_data]   Package averaged_perceptron_tagger_eng is already up-to-\n",
            "[nltk_data]       date!\n",
            "[nltk_data] Downloading package wordnet to /root/nltk_data...\n",
            "[nltk_data]   Package wordnet is already up-to-date!\n"
          ]
        }
      ]
    },
    {
      "cell_type": "code",
      "source": [
        "print(preprocessed_textual_sample)"
      ],
      "metadata": {
        "colab": {
          "base_uri": "https://localhost:8080/"
        },
        "id": "Z6DXYK5CgOze",
        "outputId": "4e3485a1-2f66-4ab4-a343-4e137eb978bc"
      },
      "execution_count": 26,
      "outputs": [
        {
          "output_type": "stream",
          "name": "stdout",
          "text": [
            "['unpopular', 'opinion', 'pump', 'go', 'stop', 'enter', 'full', 'fledge', 'bull', 'run', '.', 'however', ',', 'major', 'sell', 'sometime', 'april', 'june', 'next', 'year', '.', 'crypto', 'bitcoin', 'invest']\n"
          ]
        }
      ]
    },
    {
      "cell_type": "markdown",
      "source": [
        "### Solving the Problem Continued"
      ],
      "metadata": {
        "id": "p1P6exn51AQg"
      }
    },
    {
      "cell_type": "code",
      "source": [
        "nltk.download('punkt_tab')\n",
        "nltk.download('stopwords')\n",
        "nltk.download('wordnet')\n",
        "nltk.download('averaged_perceptron_tagger_eng')"
      ],
      "metadata": {
        "colab": {
          "base_uri": "https://localhost:8080/"
        },
        "id": "IU2z9MmNmK0F",
        "outputId": "2f00f2e0-64e7-4b1b-c581-0839d7aac169"
      },
      "execution_count": 7,
      "outputs": [
        {
          "output_type": "stream",
          "name": "stderr",
          "text": [
            "[nltk_data] Downloading package punkt_tab to /root/nltk_data...\n",
            "[nltk_data]   Unzipping tokenizers/punkt_tab.zip.\n",
            "[nltk_data] Downloading package stopwords to /root/nltk_data...\n",
            "[nltk_data]   Unzipping corpora/stopwords.zip.\n",
            "[nltk_data] Downloading package wordnet to /root/nltk_data...\n",
            "[nltk_data]   Package wordnet is already up-to-date!\n",
            "[nltk_data] Downloading package averaged_perceptron_tagger_eng to\n",
            "[nltk_data]     /root/nltk_data...\n",
            "[nltk_data]   Unzipping taggers/averaged_perceptron_tagger_eng.zip.\n"
          ]
        },
        {
          "output_type": "execute_result",
          "data": {
            "text/plain": [
              "True"
            ]
          },
          "metadata": {},
          "execution_count": 7
        }
      ]
    },
    {
      "cell_type": "code",
      "source": [
        "# Creating a POS Tag (Parts of Speech tagging) to use in lemmatization\n",
        "\n",
        "def get_wordnet_pos(word:str)->str:\n",
        "    \"\"\"Map POS tag to first character for lemmatization\n",
        "\n",
        "    Returns:\n",
        "    --------\n",
        "    pos: str\n",
        "        The positional tag of speech retrieved from wordnet database.\n",
        "    \"\"\"\n",
        "\n",
        "    tag = nltk.pos_tag([word])[0][1][0].upper()\n",
        "    tag_dict = {\"J\": wordnet.ADJ,\n",
        "                \"N\": wordnet.NOUN,\n",
        "                \"V\": wordnet.VERB,\n",
        "                \"R\": wordnet.ADV}\n",
        "\n",
        "    pos=tag_dict.get(tag,wordnet.NOUN)\n",
        "\n",
        "    return pos"
      ],
      "metadata": {
        "colab": {
          "base_uri": "https://localhost:8080/"
        },
        "id": "gXeEhelxfqN1",
        "outputId": "4d25e3ae-c4bc-49d1-b9d2-84b8941a1043"
      },
      "execution_count": 24,
      "outputs": [
        {
          "output_type": "stream",
          "name": "stderr",
          "text": [
            "[nltk_data] Downloading package wordnet to /root/nltk_data...\n",
            "[nltk_data]   Package wordnet is already up-to-date!\n"
          ]
        }
      ]
    },
    {
      "cell_type": "code",
      "source": [
        "def NLP_preprocessing_pipeline(sample:str)->list:\n",
        "    '''\n",
        "    Implements an NLP preprocessing pipeline specific for tweets from twitter.\n",
        "\n",
        "    Parameters:\n",
        "    -----------\n",
        "    textual_sample:str\n",
        "        The input text that requires preprocessing\n",
        "\n",
        "    Returns:\n",
        "    --------\n",
        "    preprocessed_textual_sample:list\n",
        "        The textual sample after preprocessing steps have been applied.\n",
        "\n",
        "    '''\n",
        "\n",
        "    #Preprocessing steps:\n",
        "\n",
        "    #Removing of URLs:\n",
        "    preprocessed_textual_sample = re.sub(\"http\\S+\",\" \",sample)\n",
        "\n",
        "    #Changing all tokens to lower case\n",
        "    preprocessed_textual_sample = preprocessed_textual_sample.lower()\n",
        "\n",
        "    #Removing the line breaks:\n",
        "    preprocessed_textual_sample = preprocessed_textual_sample.replace('\\n',\" \")\n",
        "\n",
        "    #Removing hashtags while replacing the rest of the hastag with the splitted version of the words in hashtag\n",
        "    hashtags = re.findall(r'#\\w+', preprocessed_textual_sample)\n",
        "    for tag in hashtags:\n",
        "      words_in_hashtag = wordninja.split(tag[1:])\n",
        "      preprocessed_textual_sample = preprocessed_textual_sample.replace(tag, ' '.join(words_in_hashtag))\n",
        "\n",
        "    #Removing of non-alphabetic characters except numbers:\n",
        "    preprocessed_textual_sample = re.sub(r\"[^a-zA-Z0-9,.]\", \" \", preprocessed_textual_sample) #keeping ',' and '.' to not split numbers like 100,000\n",
        "\n",
        "    #Tokenization:\n",
        "    preprocessed_textual_sample = nltk.word_tokenize(preprocessed_textual_sample)\n",
        "\n",
        "    #Stopwords removal:\n",
        "    words_without_stopwords = []\n",
        "\n",
        "    for w in preprocessed_textual_sample:\n",
        "      if w not in stopwords.words(\"english\"):\n",
        "        words_without_stopwords.append(w)\n",
        "\n",
        "    preprocessed_textual_sample = words_without_stopwords\n",
        "\n",
        "    # Lemmatize with POS Tag (Parts of Speech tagging)\n",
        "    lemmatizer = WordNetLemmatizer()\n",
        "    preprocessed_textual_sample = [lemmatizer.lemmatize(w, get_wordnet_pos(w)) for w in preprocessed_textual_sample]\n",
        "\n",
        "    return preprocessed_textual_sample\n"
      ],
      "metadata": {
        "id": "Ol2ZoIFQhuNT"
      },
      "execution_count": 13,
      "outputs": []
    },
    {
      "cell_type": "code",
      "source": [
        "#Creating the preprocessed train and test sets with the preprocessing function\n",
        "x_tweets_clean_train =  btc_tweets_train['content'].apply(NLP_preprocessing_pipeline)\n",
        "x_tweets_clean_test =  btc_tweets_test['content'].apply(NLP_preprocessing_pipeline)\n",
        "\n",
        "#Creating a df for the sentiment labels of train and test sets\n",
        "y_tweets_train = btc_tweets_train['sentiment']\n",
        "y_tweets_test = btc_tweets_test['sentiment']"
      ],
      "metadata": {
        "id": "lLIZO2D52FW2"
      },
      "execution_count": 33,
      "outputs": []
    },
    {
      "cell_type": "markdown",
      "source": [
        "### Dictionary Based Sentiment Analysis"
      ],
      "metadata": {
        "id": "KBnRA0EgHgEt"
      }
    },
    {
      "cell_type": "code",
      "source": [
        "import pysentiment2 as ps\n",
        "analyzer = ps.HIV4()\n",
        "\n",
        "def get_sentiment_score(text):\n",
        "\n",
        "    score = round(analyzer.get_score(text)['Polarity'], 2)\n",
        "    return score\n",
        "\n",
        "db_test_scores = x_tweets_clean_test.apply(get_sentiment_score)\n",
        "db_test_classes = np.where(db_test_scores>0, 1, 0)"
      ],
      "metadata": {
        "id": "ovmgxuJU7U-W"
      },
      "execution_count": 57,
      "outputs": []
    },
    {
      "cell_type": "code",
      "source": [],
      "metadata": {
        "id": "XplJMzbs-4Gy"
      },
      "execution_count": null,
      "outputs": []
    }
  ],
  "metadata": {
    "language_info": {
      "name": "python"
    },
    "colab": {
      "provenance": []
    },
    "kernelspec": {
      "name": "python3",
      "display_name": "Python 3"
    }
  },
  "nbformat": 4,
  "nbformat_minor": 0
}